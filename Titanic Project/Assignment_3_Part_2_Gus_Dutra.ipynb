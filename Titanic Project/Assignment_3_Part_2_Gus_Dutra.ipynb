{
 "cells": [
  {
   "cell_type": "markdown",
   "id": "2dfb03e9",
   "metadata": {},
   "source": [
    "## Explorotary Data Analysis of Titanic Survivors"
   ]
  },
  {
   "cell_type": "markdown",
   "id": "86f77b71",
   "metadata": {},
   "source": [
    "### Introduction"
   ]
  },
  {
   "cell_type": "markdown",
   "id": "06897cd7",
   "metadata": {},
   "source": [
    "This exploratory data analysis discuss the survival of Titanic passengers, based on their socio-economic status (Ticket Class), gender, and age. \n",
    "\n",
    "We want to answers the three following hypotheses:\n",
    "\n",
    "- Hypothese 1: Is survival rate associated to the class of a passenger (socio-economic status by ticket class)?;\n",
    "- Hypothese 2: Is survival rate associated to the gender of a passenger?;\n",
    "- Hypothese 3: Is survival rate  associated to the age of a passenger?\n",
    "\n",
    "The dataset is provided by Kaggle: [Titanic Data Set](https://www.kaggle.com/c/titanic)"
   ]
  },
  {
   "cell_type": "markdown",
   "id": "c64c6f04",
   "metadata": {},
   "source": [
    "### Preparing the datasets"
   ]
  },
  {
   "cell_type": "code",
   "execution_count": 25,
   "id": "3af94264",
   "metadata": {},
   "outputs": [],
   "source": [
    "import pandas as pd\n",
    "import numpy as np\n",
    "from scipy import stats"
   ]
  },
  {
   "cell_type": "code",
   "execution_count": 26,
   "id": "20b0c76b",
   "metadata": {},
   "outputs": [],
   "source": [
    "train = pd.read_csv(\"train.csv\")\n",
    "test = pd.read_csv(\"test.csv\")"
   ]
  },
  {
   "cell_type": "code",
   "execution_count": 27,
   "id": "be560630",
   "metadata": {},
   "outputs": [
    {
     "name": "stdout",
     "output_type": "stream",
     "text": [
      "Train Shape: (891, 12)\n",
      "Test Shape: (418, 11)\n"
     ]
    }
   ],
   "source": [
    "train.isnull().sum()\n",
    "print(\"Train Shape:\",train.shape)\n",
    "test.isnull().sum()\n",
    "print(\"Test Shape:\",test.shape)"
   ]
  },
  {
   "cell_type": "code",
   "execution_count": 28,
   "id": "651e14e4",
   "metadata": {},
   "outputs": [
    {
     "name": "stdout",
     "output_type": "stream",
     "text": [
      "<class 'pandas.core.frame.DataFrame'>\n",
      "RangeIndex: 891 entries, 0 to 890\n",
      "Data columns (total 12 columns):\n",
      " #   Column       Non-Null Count  Dtype  \n",
      "---  ------       --------------  -----  \n",
      " 0   PassengerId  891 non-null    int64  \n",
      " 1   Survived     891 non-null    int64  \n",
      " 2   Pclass       891 non-null    int64  \n",
      " 3   Name         891 non-null    object \n",
      " 4   Sex          891 non-null    object \n",
      " 5   Age          714 non-null    float64\n",
      " 6   SibSp        891 non-null    int64  \n",
      " 7   Parch        891 non-null    int64  \n",
      " 8   Ticket       891 non-null    object \n",
      " 9   Fare         891 non-null    float64\n",
      " 10  Cabin        204 non-null    object \n",
      " 11  Embarked     889 non-null    object \n",
      "dtypes: float64(2), int64(5), object(5)\n",
      "memory usage: 83.7+ KB\n"
     ]
    }
   ],
   "source": [
    "train.info()"
   ]
  },
  {
   "cell_type": "code",
   "execution_count": 29,
   "id": "5fb9abde",
   "metadata": {},
   "outputs": [
    {
     "name": "stdout",
     "output_type": "stream",
     "text": [
      "<class 'pandas.core.frame.DataFrame'>\n",
      "RangeIndex: 418 entries, 0 to 417\n",
      "Data columns (total 11 columns):\n",
      " #   Column       Non-Null Count  Dtype  \n",
      "---  ------       --------------  -----  \n",
      " 0   PassengerId  418 non-null    int64  \n",
      " 1   Pclass       418 non-null    int64  \n",
      " 2   Name         418 non-null    object \n",
      " 3   Sex          418 non-null    object \n",
      " 4   Age          332 non-null    float64\n",
      " 5   SibSp        418 non-null    int64  \n",
      " 6   Parch        418 non-null    int64  \n",
      " 7   Ticket       418 non-null    object \n",
      " 8   Fare         417 non-null    float64\n",
      " 9   Cabin        91 non-null     object \n",
      " 10  Embarked     418 non-null    object \n",
      "dtypes: float64(2), int64(4), object(5)\n",
      "memory usage: 36.0+ KB\n"
     ]
    }
   ],
   "source": [
    "test.info()"
   ]
  },
  {
   "cell_type": "markdown",
   "id": "694b687c",
   "metadata": {},
   "source": [
    "We can start by looking at the Summary statistics of the dataset for the Ticket Class, Age, and Gender."
   ]
  },
  {
   "cell_type": "code",
   "execution_count": 169,
   "id": "6dd79503",
   "metadata": {},
   "outputs": [
    {
     "name": "stdout",
     "output_type": "stream",
     "text": [
      "           Pclass         Age\n",
      "count  891.000000  714.000000\n",
      "mean     2.308642   29.699118\n",
      "std      0.836071   14.526497\n",
      "min      1.000000    0.420000\n",
      "25%      2.000000   20.125000\n",
      "50%      3.000000   28.000000\n",
      "75%      3.000000   38.000000\n",
      "max      3.000000   80.000000\n"
     ]
    }
   ],
   "source": [
    "print(train[['Pclass','Age',]].describe())"
   ]
  },
  {
   "cell_type": "code",
   "execution_count": 171,
   "id": "9b9a3023",
   "metadata": {},
   "outputs": [
    {
     "name": "stdout",
     "output_type": "stream",
     "text": [
      "         Sex\n",
      "count    891\n",
      "unique     2\n",
      "top     male\n",
      "freq     577\n"
     ]
    }
   ],
   "source": [
    "print(train[['Sex']].describe(include=['object']))"
   ]
  },
  {
   "cell_type": "markdown",
   "id": "3bc5685b",
   "metadata": {},
   "source": [
    "### Dataset Dictionary\n",
    "- Survived: 0 = No, 1 = Yes\n",
    "- pclass: Ticket class 1 = 1st, 2 = 2nd, 3 = 3rd\n",
    "- sibsp: # of siblings / spouses aboard the Titanic\n",
    "- parch: # of parents / children aboard the Titanic\n",
    "- ticket: Ticket number\n",
    "- cabin: Cabin number\n",
    "- embarked: Port of Embarkation C = Cherbourg, Q = Queenstown, S = Southampton\n",
    "\n",
    "Total rows and columns: We can verify that there are 891 rows and 12 columns in our dataset."
   ]
  },
  {
   "cell_type": "code",
   "execution_count": 30,
   "id": "6ec1d47e",
   "metadata": {},
   "outputs": [
    {
     "data": {
      "text/html": [
       "<div>\n",
       "<style scoped>\n",
       "    .dataframe tbody tr th:only-of-type {\n",
       "        vertical-align: middle;\n",
       "    }\n",
       "\n",
       "    .dataframe tbody tr th {\n",
       "        vertical-align: top;\n",
       "    }\n",
       "\n",
       "    .dataframe thead th {\n",
       "        text-align: right;\n",
       "    }\n",
       "</style>\n",
       "<table border=\"1\" class=\"dataframe\">\n",
       "  <thead>\n",
       "    <tr style=\"text-align: right;\">\n",
       "      <th></th>\n",
       "      <th>PassengerId</th>\n",
       "      <th>Survived</th>\n",
       "      <th>Pclass</th>\n",
       "      <th>Name</th>\n",
       "      <th>Sex</th>\n",
       "      <th>Age</th>\n",
       "      <th>SibSp</th>\n",
       "      <th>Parch</th>\n",
       "      <th>Ticket</th>\n",
       "      <th>Fare</th>\n",
       "      <th>Cabin</th>\n",
       "      <th>Embarked</th>\n",
       "    </tr>\n",
       "  </thead>\n",
       "  <tbody>\n",
       "    <tr>\n",
       "      <th>0</th>\n",
       "      <td>1</td>\n",
       "      <td>0</td>\n",
       "      <td>3</td>\n",
       "      <td>Braund, Mr. Owen Harris</td>\n",
       "      <td>male</td>\n",
       "      <td>22.0</td>\n",
       "      <td>1</td>\n",
       "      <td>0</td>\n",
       "      <td>A/5 21171</td>\n",
       "      <td>7.2500</td>\n",
       "      <td>NaN</td>\n",
       "      <td>S</td>\n",
       "    </tr>\n",
       "    <tr>\n",
       "      <th>1</th>\n",
       "      <td>2</td>\n",
       "      <td>1</td>\n",
       "      <td>1</td>\n",
       "      <td>Cumings, Mrs. John Bradley (Florence Briggs Th...</td>\n",
       "      <td>female</td>\n",
       "      <td>38.0</td>\n",
       "      <td>1</td>\n",
       "      <td>0</td>\n",
       "      <td>PC 17599</td>\n",
       "      <td>71.2833</td>\n",
       "      <td>C85</td>\n",
       "      <td>C</td>\n",
       "    </tr>\n",
       "    <tr>\n",
       "      <th>2</th>\n",
       "      <td>3</td>\n",
       "      <td>1</td>\n",
       "      <td>3</td>\n",
       "      <td>Heikkinen, Miss. Laina</td>\n",
       "      <td>female</td>\n",
       "      <td>26.0</td>\n",
       "      <td>0</td>\n",
       "      <td>0</td>\n",
       "      <td>STON/O2. 3101282</td>\n",
       "      <td>7.9250</td>\n",
       "      <td>NaN</td>\n",
       "      <td>S</td>\n",
       "    </tr>\n",
       "    <tr>\n",
       "      <th>3</th>\n",
       "      <td>4</td>\n",
       "      <td>1</td>\n",
       "      <td>1</td>\n",
       "      <td>Futrelle, Mrs. Jacques Heath (Lily May Peel)</td>\n",
       "      <td>female</td>\n",
       "      <td>35.0</td>\n",
       "      <td>1</td>\n",
       "      <td>0</td>\n",
       "      <td>113803</td>\n",
       "      <td>53.1000</td>\n",
       "      <td>C123</td>\n",
       "      <td>S</td>\n",
       "    </tr>\n",
       "    <tr>\n",
       "      <th>4</th>\n",
       "      <td>5</td>\n",
       "      <td>0</td>\n",
       "      <td>3</td>\n",
       "      <td>Allen, Mr. William Henry</td>\n",
       "      <td>male</td>\n",
       "      <td>35.0</td>\n",
       "      <td>0</td>\n",
       "      <td>0</td>\n",
       "      <td>373450</td>\n",
       "      <td>8.0500</td>\n",
       "      <td>NaN</td>\n",
       "      <td>S</td>\n",
       "    </tr>\n",
       "    <tr>\n",
       "      <th>5</th>\n",
       "      <td>6</td>\n",
       "      <td>0</td>\n",
       "      <td>3</td>\n",
       "      <td>Moran, Mr. James</td>\n",
       "      <td>male</td>\n",
       "      <td>NaN</td>\n",
       "      <td>0</td>\n",
       "      <td>0</td>\n",
       "      <td>330877</td>\n",
       "      <td>8.4583</td>\n",
       "      <td>NaN</td>\n",
       "      <td>Q</td>\n",
       "    </tr>\n",
       "    <tr>\n",
       "      <th>6</th>\n",
       "      <td>7</td>\n",
       "      <td>0</td>\n",
       "      <td>1</td>\n",
       "      <td>McCarthy, Mr. Timothy J</td>\n",
       "      <td>male</td>\n",
       "      <td>54.0</td>\n",
       "      <td>0</td>\n",
       "      <td>0</td>\n",
       "      <td>17463</td>\n",
       "      <td>51.8625</td>\n",
       "      <td>E46</td>\n",
       "      <td>S</td>\n",
       "    </tr>\n",
       "    <tr>\n",
       "      <th>7</th>\n",
       "      <td>8</td>\n",
       "      <td>0</td>\n",
       "      <td>3</td>\n",
       "      <td>Palsson, Master. Gosta Leonard</td>\n",
       "      <td>male</td>\n",
       "      <td>2.0</td>\n",
       "      <td>3</td>\n",
       "      <td>1</td>\n",
       "      <td>349909</td>\n",
       "      <td>21.0750</td>\n",
       "      <td>NaN</td>\n",
       "      <td>S</td>\n",
       "    </tr>\n",
       "    <tr>\n",
       "      <th>8</th>\n",
       "      <td>9</td>\n",
       "      <td>1</td>\n",
       "      <td>3</td>\n",
       "      <td>Johnson, Mrs. Oscar W (Elisabeth Vilhelmina Berg)</td>\n",
       "      <td>female</td>\n",
       "      <td>27.0</td>\n",
       "      <td>0</td>\n",
       "      <td>2</td>\n",
       "      <td>347742</td>\n",
       "      <td>11.1333</td>\n",
       "      <td>NaN</td>\n",
       "      <td>S</td>\n",
       "    </tr>\n",
       "    <tr>\n",
       "      <th>9</th>\n",
       "      <td>10</td>\n",
       "      <td>1</td>\n",
       "      <td>2</td>\n",
       "      <td>Nasser, Mrs. Nicholas (Adele Achem)</td>\n",
       "      <td>female</td>\n",
       "      <td>14.0</td>\n",
       "      <td>1</td>\n",
       "      <td>0</td>\n",
       "      <td>237736</td>\n",
       "      <td>30.0708</td>\n",
       "      <td>NaN</td>\n",
       "      <td>C</td>\n",
       "    </tr>\n",
       "  </tbody>\n",
       "</table>\n",
       "</div>"
      ],
      "text/plain": [
       "   PassengerId  Survived  Pclass  \\\n",
       "0            1         0       3   \n",
       "1            2         1       1   \n",
       "2            3         1       3   \n",
       "3            4         1       1   \n",
       "4            5         0       3   \n",
       "5            6         0       3   \n",
       "6            7         0       1   \n",
       "7            8         0       3   \n",
       "8            9         1       3   \n",
       "9           10         1       2   \n",
       "\n",
       "                                                Name     Sex   Age  SibSp  \\\n",
       "0                            Braund, Mr. Owen Harris    male  22.0      1   \n",
       "1  Cumings, Mrs. John Bradley (Florence Briggs Th...  female  38.0      1   \n",
       "2                             Heikkinen, Miss. Laina  female  26.0      0   \n",
       "3       Futrelle, Mrs. Jacques Heath (Lily May Peel)  female  35.0      1   \n",
       "4                           Allen, Mr. William Henry    male  35.0      0   \n",
       "5                                   Moran, Mr. James    male   NaN      0   \n",
       "6                            McCarthy, Mr. Timothy J    male  54.0      0   \n",
       "7                     Palsson, Master. Gosta Leonard    male   2.0      3   \n",
       "8  Johnson, Mrs. Oscar W (Elisabeth Vilhelmina Berg)  female  27.0      0   \n",
       "9                Nasser, Mrs. Nicholas (Adele Achem)  female  14.0      1   \n",
       "\n",
       "   Parch            Ticket     Fare Cabin Embarked  \n",
       "0      0         A/5 21171   7.2500   NaN        S  \n",
       "1      0          PC 17599  71.2833   C85        C  \n",
       "2      0  STON/O2. 3101282   7.9250   NaN        S  \n",
       "3      0            113803  53.1000  C123        S  \n",
       "4      0            373450   8.0500   NaN        S  \n",
       "5      0            330877   8.4583   NaN        Q  \n",
       "6      0             17463  51.8625   E46        S  \n",
       "7      1            349909  21.0750   NaN        S  \n",
       "8      2            347742  11.1333   NaN        S  \n",
       "9      0            237736  30.0708   NaN        C  "
      ]
     },
     "execution_count": 30,
     "metadata": {},
     "output_type": "execute_result"
    }
   ],
   "source": [
    "train.head(10)"
   ]
  },
  {
   "cell_type": "markdown",
   "id": "4fd65125",
   "metadata": {},
   "source": [
    "The DataFrame train is indexed with the default method. I can use the PassengerId as an index instead."
   ]
  },
  {
   "cell_type": "code",
   "execution_count": 31,
   "id": "da6ffdbd",
   "metadata": {},
   "outputs": [
    {
     "data": {
      "text/html": [
       "<div>\n",
       "<style scoped>\n",
       "    .dataframe tbody tr th:only-of-type {\n",
       "        vertical-align: middle;\n",
       "    }\n",
       "\n",
       "    .dataframe tbody tr th {\n",
       "        vertical-align: top;\n",
       "    }\n",
       "\n",
       "    .dataframe thead th {\n",
       "        text-align: right;\n",
       "    }\n",
       "</style>\n",
       "<table border=\"1\" class=\"dataframe\">\n",
       "  <thead>\n",
       "    <tr style=\"text-align: right;\">\n",
       "      <th></th>\n",
       "      <th>Survived</th>\n",
       "      <th>Pclass</th>\n",
       "      <th>Name</th>\n",
       "      <th>Sex</th>\n",
       "      <th>Age</th>\n",
       "      <th>SibSp</th>\n",
       "      <th>Parch</th>\n",
       "      <th>Ticket</th>\n",
       "      <th>Fare</th>\n",
       "      <th>Cabin</th>\n",
       "      <th>Embarked</th>\n",
       "    </tr>\n",
       "    <tr>\n",
       "      <th>PassengerId</th>\n",
       "      <th></th>\n",
       "      <th></th>\n",
       "      <th></th>\n",
       "      <th></th>\n",
       "      <th></th>\n",
       "      <th></th>\n",
       "      <th></th>\n",
       "      <th></th>\n",
       "      <th></th>\n",
       "      <th></th>\n",
       "      <th></th>\n",
       "    </tr>\n",
       "  </thead>\n",
       "  <tbody>\n",
       "    <tr>\n",
       "      <th>1</th>\n",
       "      <td>0</td>\n",
       "      <td>3</td>\n",
       "      <td>Braund, Mr. Owen Harris</td>\n",
       "      <td>male</td>\n",
       "      <td>22.0</td>\n",
       "      <td>1</td>\n",
       "      <td>0</td>\n",
       "      <td>A/5 21171</td>\n",
       "      <td>7.2500</td>\n",
       "      <td>NaN</td>\n",
       "      <td>S</td>\n",
       "    </tr>\n",
       "    <tr>\n",
       "      <th>2</th>\n",
       "      <td>1</td>\n",
       "      <td>1</td>\n",
       "      <td>Cumings, Mrs. John Bradley (Florence Briggs Th...</td>\n",
       "      <td>female</td>\n",
       "      <td>38.0</td>\n",
       "      <td>1</td>\n",
       "      <td>0</td>\n",
       "      <td>PC 17599</td>\n",
       "      <td>71.2833</td>\n",
       "      <td>C85</td>\n",
       "      <td>C</td>\n",
       "    </tr>\n",
       "    <tr>\n",
       "      <th>3</th>\n",
       "      <td>1</td>\n",
       "      <td>3</td>\n",
       "      <td>Heikkinen, Miss. Laina</td>\n",
       "      <td>female</td>\n",
       "      <td>26.0</td>\n",
       "      <td>0</td>\n",
       "      <td>0</td>\n",
       "      <td>STON/O2. 3101282</td>\n",
       "      <td>7.9250</td>\n",
       "      <td>NaN</td>\n",
       "      <td>S</td>\n",
       "    </tr>\n",
       "    <tr>\n",
       "      <th>4</th>\n",
       "      <td>1</td>\n",
       "      <td>1</td>\n",
       "      <td>Futrelle, Mrs. Jacques Heath (Lily May Peel)</td>\n",
       "      <td>female</td>\n",
       "      <td>35.0</td>\n",
       "      <td>1</td>\n",
       "      <td>0</td>\n",
       "      <td>113803</td>\n",
       "      <td>53.1000</td>\n",
       "      <td>C123</td>\n",
       "      <td>S</td>\n",
       "    </tr>\n",
       "    <tr>\n",
       "      <th>5</th>\n",
       "      <td>0</td>\n",
       "      <td>3</td>\n",
       "      <td>Allen, Mr. William Henry</td>\n",
       "      <td>male</td>\n",
       "      <td>35.0</td>\n",
       "      <td>0</td>\n",
       "      <td>0</td>\n",
       "      <td>373450</td>\n",
       "      <td>8.0500</td>\n",
       "      <td>NaN</td>\n",
       "      <td>S</td>\n",
       "    </tr>\n",
       "  </tbody>\n",
       "</table>\n",
       "</div>"
      ],
      "text/plain": [
       "             Survived  Pclass  \\\n",
       "PassengerId                     \n",
       "1                   0       3   \n",
       "2                   1       1   \n",
       "3                   1       3   \n",
       "4                   1       1   \n",
       "5                   0       3   \n",
       "\n",
       "                                                          Name     Sex   Age  \\\n",
       "PassengerId                                                                    \n",
       "1                                      Braund, Mr. Owen Harris    male  22.0   \n",
       "2            Cumings, Mrs. John Bradley (Florence Briggs Th...  female  38.0   \n",
       "3                                       Heikkinen, Miss. Laina  female  26.0   \n",
       "4                 Futrelle, Mrs. Jacques Heath (Lily May Peel)  female  35.0   \n",
       "5                                     Allen, Mr. William Henry    male  35.0   \n",
       "\n",
       "             SibSp  Parch            Ticket     Fare Cabin Embarked  \n",
       "PassengerId                                                          \n",
       "1                1      0         A/5 21171   7.2500   NaN        S  \n",
       "2                1      0          PC 17599  71.2833   C85        C  \n",
       "3                0      0  STON/O2. 3101282   7.9250   NaN        S  \n",
       "4                1      0            113803  53.1000  C123        S  \n",
       "5                0      0            373450   8.0500   NaN        S  "
      ]
     },
     "execution_count": 31,
     "metadata": {},
     "output_type": "execute_result"
    }
   ],
   "source": [
    "train = train.set_index(['PassengerId'])\n",
    "train.head()"
   ]
  },
  {
   "cell_type": "markdown",
   "id": "38c0999b",
   "metadata": {},
   "source": [
    "I have also checked the train DataFrame for missing values in the columns of interest."
   ]
  },
  {
   "cell_type": "code",
   "execution_count": 41,
   "id": "a5c3cff4",
   "metadata": {},
   "outputs": [
    {
     "data": {
      "text/plain": [
       "0"
      ]
     },
     "execution_count": 41,
     "metadata": {},
     "output_type": "execute_result"
    }
   ],
   "source": [
    "train['Survived'].isnull().sum()"
   ]
  },
  {
   "cell_type": "code",
   "execution_count": 43,
   "id": "d9fc6a16",
   "metadata": {},
   "outputs": [
    {
     "data": {
      "text/plain": [
       "0"
      ]
     },
     "execution_count": 43,
     "metadata": {},
     "output_type": "execute_result"
    }
   ],
   "source": [
    "train['Pclass'].isnull().sum()"
   ]
  },
  {
   "cell_type": "code",
   "execution_count": 44,
   "id": "41aefbb6",
   "metadata": {},
   "outputs": [
    {
     "data": {
      "text/plain": [
       "0"
      ]
     },
     "execution_count": 44,
     "metadata": {},
     "output_type": "execute_result"
    }
   ],
   "source": [
    "train['Sex'].isnull().sum()"
   ]
  },
  {
   "cell_type": "code",
   "execution_count": 45,
   "id": "e445842e",
   "metadata": {},
   "outputs": [
    {
     "data": {
      "text/plain": [
       "177"
      ]
     },
     "execution_count": 45,
     "metadata": {},
     "output_type": "execute_result"
    }
   ],
   "source": [
    "train['Age'].isnull().sum()"
   ]
  },
  {
   "cell_type": "markdown",
   "id": "a74e87b8",
   "metadata": {},
   "source": [
    "I have discovered 177 null values over 891 observations (Passengers) for the age variable. Missing Age data will affect Hypothese 3: Is survival rate associated to the age of a passenger?\n",
    "\n",
    "To plot and summary this should not be a problem as they will be treated as zero(0) value. However, 177 is approximately 20% of our 891 observations dataset, which seems very significant if removed."
   ]
  },
  {
   "cell_type": "markdown",
   "id": "65109e8d",
   "metadata": {},
   "source": [
    "### Analyzing the data"
   ]
  },
  {
   "cell_type": "markdown",
   "id": "63d6ef6b",
   "metadata": {},
   "source": [
    "As we're looking at survival rates associated with 3 different variables, we can define a function to make it easir to obtain the survival rates for each hypotheses.\n",
    "\n"
   ]
  },
  {
   "cell_type": "code",
   "execution_count": 68,
   "id": "fdcd319e",
   "metadata": {},
   "outputs": [],
   "source": [
    "survivor_count = train['Survived'].sum()\n",
    "\n",
    "def survival_rate(dataframe, factor):\n",
    "    '''\n",
    "    dataframe - the dataframe on which to apply the analysis\n",
    "    factor - the factor / column for which we want the survival rate. Should be of type string.\n",
    "    This function takes a column as the factor and returns the survival rate of Titanic passengers according to this factor.\n",
    "    '''\n",
    "    by_factor = dataframe.groupby(factor)\n",
    "    count_by_factor = by_factor['Survived'].sum()\n",
    "    survival_rate = count_by_factor / survivor_count * 100\n",
    "    print('Survival rates:', survival_rate, '\\n \\n', 'Counts: ', count_by_factor)\n",
    "    return survival_rate, count_by_factor"
   ]
  },
  {
   "cell_type": "markdown",
   "id": "8ae7c211",
   "metadata": {},
   "source": [
    "### Correlation: Survival rate and class of a passenger (ticket class)"
   ]
  },
  {
   "cell_type": "code",
   "execution_count": 59,
   "id": "97b2354b",
   "metadata": {},
   "outputs": [
    {
     "name": "stdout",
     "output_type": "stream",
     "text": [
      "342\n"
     ]
    }
   ],
   "source": [
    "survivor_count = train['Survived'].sum()\n",
    "print(survivor_count)"
   ]
  },
  {
   "cell_type": "markdown",
   "id": "dc824c17",
   "metadata": {},
   "source": [
    "First, we can see how socio-economic status (as ticket class), impacted in survival.\n",
    "We can determine how passengers are divided through ticket classes."
   ]
  },
  {
   "cell_type": "code",
   "execution_count": 62,
   "id": "70d12629",
   "metadata": {},
   "outputs": [],
   "source": [
    "total_passenger_count = len(train['Pclass'])\n",
    "first_class_count = (train['Pclass'] == 1).sum()\n",
    "second_class_count = (train['Pclass'] == 2).sum()\n",
    "third_class_count = (train['Pclass'] == 3).sum()\n",
    "\n",
    "first_class =  first_class_count / total_passenger_count * 100\n",
    "second_class = second_class_count / total_passenger_count * 100\n",
    "third_class = third_class_count / total_passenger_count * 100"
   ]
  },
  {
   "cell_type": "code",
   "execution_count": 63,
   "id": "f299c29d",
   "metadata": {},
   "outputs": [
    {
     "name": "stdout",
     "output_type": "stream",
     "text": [
      "First class percentage =  24.242424242424242  | Count:  216\n",
      "Second class percentage =  20.65095398428732  | Count:  184\n",
      "Third class percentage =  55.106621773288445  | Count:  491\n"
     ]
    }
   ],
   "source": [
    "print('First class percentage = ', first_class, ' | Count: ', first_class_count)\n",
    "print('Second class percentage = ', second_class, ' | Count: ', second_class_count)\n",
    "print('Third class percentage = ', third_class, ' | Count: ', third_class_count)"
   ]
  },
  {
   "cell_type": "markdown",
   "id": "fe05b71d",
   "metadata": {},
   "source": [
    "We can verify that,\n",
    "\n",
    "First class passengers represents 24.24% of the total No of passengers;\n",
    "Second class passengers represents 20.65% of the total No of passengers;\n",
    "Third class represents more than half of the passengers: 55.10%\n",
    "\n",
    "We can compare the percentages obtained with the survival percentages for each Ticket Class."
   ]
  },
  {
   "cell_type": "code",
   "execution_count": 74,
   "id": "be676b96",
   "metadata": {},
   "outputs": [
    {
     "name": "stdout",
     "output_type": "stream",
     "text": [
      "Survival rates: Pclass\n",
      "1    39.766082\n",
      "2    25.438596\n",
      "3    34.795322\n",
      "Name: Survived, dtype: float64 \n",
      " \n",
      " Counts:  Pclass\n",
      "1    136\n",
      "2     87\n",
      "3    119\n",
      "Name: Survived, dtype: int64\n"
     ]
    },
    {
     "data": {
      "text/plain": [
       "(Pclass\n",
       " 1    39.766082\n",
       " 2    25.438596\n",
       " 3    34.795322\n",
       " Name: Survived, dtype: float64,\n",
       " Pclass\n",
       " 1    136\n",
       " 2     87\n",
       " 3    119\n",
       " Name: Survived, dtype: int64)"
      ]
     },
     "execution_count": 74,
     "metadata": {},
     "output_type": "execute_result"
    }
   ],
   "source": [
    "survival_rate(train,'Pclass')"
   ]
  },
  {
   "cell_type": "markdown",
   "id": "be08ad8c",
   "metadata": {},
   "source": [
    "Interpreting the survival rates, we can verify that:\n",
    "\n",
    "- First class represents 24.24% of the passengers, but 39.76% of the survivors\n",
    "- Second class represents 20.65% of the passengers, but 25.44% of the survivors\n",
    "- Third class representes 55.11% of the passengers, but 34.79% of the survivors\n",
    "\n",
    "To get a better understanding of the results we can visualize the data on a plot by seeing how survival rates and death rates grow accordingly to the ticket class as absolute counts and percentages."
   ]
  },
  {
   "cell_type": "code",
   "execution_count": 79,
   "id": "1cc5ef53",
   "metadata": {},
   "outputs": [],
   "source": [
    "def counts(dataframe, factor, quality, status):\n",
    "    '''\n",
    "    dataframe - the dataframe on which to apply the function ('train' for the Titanic dataframe)\n",
    "    factor - the column on which to perform the analysis ('Pclass' for the ticket class)\n",
    "    rate - the class on which to perform the analysis ('2' for the second class)\n",
    "    status - the status to be counted: survival or death; Must be a Boolean as 1 for survival and 0 for death).\n",
    "    '''\n",
    "    target = dataframe[factor].where(dataframe[factor] == quality)\n",
    "    class_count = target.where(dataframe['Survived'] == status).count()\n",
    "    return class_count"
   ]
  },
  {
   "cell_type": "code",
   "execution_count": 99,
   "id": "8065fc35",
   "metadata": {},
   "outputs": [],
   "source": [
    "Class1_survival_count = counts(train, 'Pclass', 1, 1)\n",
    "Class2_survival_count = counts(train, 'Pclass', 2, 1)\n",
    "Class3_survival_count = counts(train, 'Pclass', 3, 1)\n",
    "Class1_death_count = counts(train, 'Pclass', 1, 0)\n",
    "Class2_death_count = counts(train, 'Pclass', 2, 0)\n",
    "Class3_death_count = counts(train, 'Pclass', 3, 0)"
   ]
  },
  {
   "cell_type": "code",
   "execution_count": 100,
   "id": "7f9f8e27",
   "metadata": {},
   "outputs": [
    {
     "name": "stdout",
     "output_type": "stream",
     "text": [
      "Survival Count by Ticket Class\n",
      "First class survival count: 136\n",
      "Second class survival count: 87\n",
      "Third class survival count: 119\n",
      "\n",
      "Death Count by Ticket Class\n",
      "First class death count: 80\n",
      "Second class death count: 97\n",
      "Third class death count: 372\n"
     ]
    }
   ],
   "source": [
    "print('Survival Count by Ticket Class')\n",
    "print('First class survival count:', Class1_survival_count)\n",
    "print('Second class survival count:', Class2_survival_count)\n",
    "print('Third class survival count:', Class3_survival_count)\n",
    "print('\\nDeath Count by Ticket Class')\n",
    "print('First class death count:', Class1_death_count)\n",
    "print('Second class death count:', Class2_death_count)\n",
    "print('Third class death count:', Class3_death_count)"
   ]
  },
  {
   "cell_type": "markdown",
   "id": "88f2daf5",
   "metadata": {},
   "source": [
    "As we have the counts for each Ticket Class related to Survival and Deat, we can now visualize the results by generating bar charts for absolute counts and for percentages. To do these plots we can define a function called bar_plot"
   ]
  },
  {
   "cell_type": "code",
   "execution_count": 173,
   "id": "017b1bc8",
   "metadata": {},
   "outputs": [],
   "source": [
    "import matplotlib.pyplot as plt\n",
    "import seaborn as sns\n",
    "\n",
    "def bar_plot(survival_array, death_array, by_factor, x_ticks):\n",
    "    \"\"\"\n",
    "    survival_array: a list with the survival data to be analyzed ([Class1_survival_count, Class2_survival_count, Class3_survival_count])\n",
    "    death_array: a list with the death data to be analyzed ([Class1_death_count, Class2_death_count, Class3_death_count])\n",
    "    by_title: the factor that is the focus of the analysis ('by Ticket Class')\n",
    "    x_ticks: (eg. ['First class', 'Second class', 'Third class'])\n",
    "    \"\"\"\n",
    "    \n",
    "    abs_survival_list = np.array(survival_array)\n",
    "    abs_death_list = np.array(death_array)\n",
    "    N = len(abs_survival_list)\n",
    "    ind = np.arange(N)\n",
    "    width = 1 / N\n",
    "\n",
    "    f, (ax1, ax2) = plt.subplots(1, 2, figsize=(10,5))\n",
    "\n",
    "\n",
    "    # Absolute count\n",
    "    ax1.bar(ind, abs_survival_list, width, label='Survival', alpha=0.8)\n",
    "    ax1.bar(ind, abs_death_list, width, color='#d62728', label='Death', alpha=0.8, bottom=abs_survival_list)\n",
    "\n",
    "    plt.sca(ax1)\n",
    "    plt.xticks(ind, x_ticks)\n",
    "\n",
    "    ax1.set_title('Absolute count ' + by_factor)\n",
    "    ax1.set_ylabel('Count')\n",
    "    ax1.legend(loc='upper left')\n",
    "\n",
    "    plt.setp(plt.gca().get_xticklabels(), rotation=45)\n",
    "\n",
    "\n",
    "    # Percentage\n",
    "    per_survival_list = (abs_survival_list / (abs_survival_list + abs_death_list)) * 100\n",
    "    per_death_list = (abs_death_list / (abs_survival_list + abs_death_list)) * 100\n",
    "\n",
    "    ax2.bar(ind, per_survival_list, width, label='Survival percentage', alpha=0.8)\n",
    "    ax2.bar(ind, per_death_list, width, color='#d62728', label='Death percentage', alpha=0.8, bottom=per_survival_list)\n",
    "\n",
    "    plt.sca(ax2)\n",
    "    plt.xticks(ind, x_ticks)\n",
    "\n",
    "    ax2.set_title('Percentage ' + by_factor)\n",
    "    ax2.set_ylabel('Percentage')\n",
    "\n",
    "    plt.setp(plt.gca().get_xticklabels(), rotation=45)\n",
    "\n",
    "    return plt.show()"
   ]
  },
  {
   "cell_type": "markdown",
   "id": "6f33087a",
   "metadata": {},
   "source": [
    "Plotting the bar chart for the Ticket Class analysis.\n"
   ]
  },
  {
   "cell_type": "code",
   "execution_count": 104,
   "id": "83001e93",
   "metadata": {},
   "outputs": [
    {
     "data": {
      "image/png": "[encoded data removed]",
      "text/plain": [
       "<Figure size 720x360 with 2 Axes>"
      ]
     },
     "metadata": {
      "needs_background": "light"
     },
     "output_type": "display_data"
    }
   ],
   "source": [
    "bar_plot([Class1_survival_count, Class2_survival_count, Class3_survival_count],\n",
    "         [Class1_death_count, Class2_death_count, Class3_death_count],\n",
    "         'by ticket class',\n",
    "         ['First class', 'Second class', 'Third class'])"
   ]
  },
  {
   "cell_type": "markdown",
   "id": "0b00dac2",
   "metadata": {},
   "source": [
    "We can verify a correlation between death and ticket class being: The higher the ticket class, the higher are the chances of survival."
   ]
  },
  {
   "cell_type": "code",
   "execution_count": 105,
   "id": "a4f8d967",
   "metadata": {},
   "outputs": [
    {
     "data": {
      "text/plain": [
       "Power_divergenceResult(statistic=1592.1666666666665, pvalue=2.0399395484622444e-42)"
      ]
     },
     "execution_count": 105,
     "metadata": {},
     "output_type": "execute_result"
    }
   ],
   "source": [
    "stats.chisquare(train['Survived'], train['Pclass'])"
   ]
  },
  {
   "cell_type": "markdown",
   "id": "e0aa25d0",
   "metadata": {},
   "source": [
    "### Correlation: Survival rate and Gender"
   ]
  },
  {
   "cell_type": "markdown",
   "id": "a192b4d1",
   "metadata": {},
   "source": [
    "Now we can analyze how the gender affect the chances of survival. We can defne a function to get counts of survivals and deaths by gender."
   ]
  },
  {
   "cell_type": "code",
   "execution_count": 106,
   "id": "486bbe98",
   "metadata": {},
   "outputs": [],
   "source": [
    "female_survival_count = counts(train, 'Sex', 'female', 1)\n",
    "male_survival_count = counts(train, 'Sex', 'male', 1)\n",
    "female_death_count = counts(train, 'Sex', 'female', 0)\n",
    "male_death_count = counts(train, 'Sex', 'male', 0)"
   ]
  },
  {
   "cell_type": "code",
   "execution_count": 108,
   "id": "86e6378a",
   "metadata": {},
   "outputs": [
    {
     "name": "stdout",
     "output_type": "stream",
     "text": [
      "Survival Count by Gender\n",
      "Female survival count:  233\n",
      "Male survival count:  109\n",
      "\n",
      "Death Count by Gender\n",
      "Female death count:  81\n",
      "Male death count:  468\n"
     ]
    }
   ],
   "source": [
    "print('Survival Count by Gender')\n",
    "print('Female survival count: ', female_survival_count)\n",
    "print('Male survival count: ', male_survival_count)\n",
    "print('\\nDeath Count by Gender')\n",
    "print('Female death count: ', female_death_count)\n",
    "print('Male death count: ', male_death_count)"
   ]
  },
  {
   "cell_type": "markdown",
   "id": "c3fdfd8e",
   "metadata": {},
   "source": [
    "Visualizing the data:"
   ]
  },
  {
   "cell_type": "code",
   "execution_count": 110,
   "id": "2445d9b2",
   "metadata": {},
   "outputs": [
    {
     "data": {
      "image/png": "[encoded data removed]",
      "text/plain": [
       "<Figure size 720x360 with 2 Axes>"
      ]
     },
     "metadata": {
      "needs_background": "light"
     },
     "output_type": "display_data"
    }
   ],
   "source": [
    "bar_plot([female_survival_count, male_survival_count],\n",
    "         [female_death_count, male_death_count],\n",
    "         'by gender',\n",
    "         ['Female', 'Male'])"
   ]
  },
  {
   "cell_type": "markdown",
   "id": "953991f8",
   "metadata": {},
   "source": [
    "To verify the correlation we can state numerical values for each category by replacing values of 'Female' and'Male' as:\n",
    "Female = 1\n",
    "Male = 0"
   ]
  },
  {
   "cell_type": "code",
   "execution_count": 172,
   "id": "74fa9241",
   "metadata": {},
   "outputs": [
    {
     "name": "stdout",
     "output_type": "stream",
     "text": [
      "               Sex  Survived\n",
      "Sex       1.000000  0.543351\n",
      "Survived  0.543351  1.000000\n"
     ]
    },
    {
     "name": "stderr",
     "output_type": "stream",
     "text": [
      "/Users/gdutra/opt/anaconda3/lib/python3.8/site-packages/pandas/core/frame.py:4524: SettingWithCopyWarning: \n",
      "A value is trying to be set on a copy of a slice from a DataFrame\n",
      "\n",
      "See the caveats in the documentation: https://pandas.pydata.org/pandas-docs/stable/user_guide/indexing.html#returning-a-view-versus-a-copy\n",
      "  return super().replace(\n"
     ]
    }
   ],
   "source": [
    "gender_train = train[['Sex', 'Survived']]\n",
    "gender_train.replace(['male', 'female'], [0, 1], inplace=True)\n",
    "\n",
    "print(gender_train[['Sex', 'Survived']].corr(method='pearson'))"
   ]
  },
  {
   "cell_type": "markdown",
   "id": "4e1b9c9e",
   "metadata": {},
   "source": [
    "The analysis shows a moderate correlation between Survival and Gender.\n",
    "\n",
    "By analyzing the bar charts we can infer that:\n",
    "\n",
    "- Women had a higher chance of survival than men;\n",
    "- First class passengers had a higher chance of survival than third class passengers;\n",
    "\n",
    "Therefore, what were the chances of survival of a first class woman compare to a third class man?"
   ]
  },
  {
   "cell_type": "code",
   "execution_count": 112,
   "id": "9aabc678",
   "metadata": {},
   "outputs": [
    {
     "data": {
      "text/plain": [
       "Sex     Pclass\n",
       "female  1         96.808511\n",
       "        2         92.105263\n",
       "        3         50.000000\n",
       "male    1         36.885246\n",
       "        2         15.740741\n",
       "        3         13.544669\n",
       "Name: Survived, dtype: float64"
      ]
     },
     "execution_count": 112,
     "metadata": {},
     "output_type": "execute_result"
    }
   ],
   "source": [
    "train.groupby(['Sex', 'Pclass'])['Survived'].mean() * 100"
   ]
  },
  {
   "cell_type": "markdown",
   "id": "ad5eb789",
   "metadata": {},
   "source": [
    "We can infer that:\n",
    "\n",
    "Chances of survival for a Woman on First class were 96.81%\n",
    "Chances of survival for a Men on Third class were 13.54%"
   ]
  },
  {
   "cell_type": "markdown",
   "id": "856bfdb8",
   "metadata": {},
   "source": [
    "### Correlation: Survival rate and Age"
   ]
  },
  {
   "cell_type": "markdown",
   "id": "b55ea179",
   "metadata": {},
   "source": [
    "#### Linear Regression Analysis"
   ]
  },
  {
   "cell_type": "markdown",
   "id": "8745a259",
   "metadata": {},
   "source": [
    "To analyze how the age of passengers affects the survival rate, we can investigate the survival rates of children compared to older people.\n",
    "\n",
    "Since we have 177 NaN values on the dataset, we will have to remove these values from the dataset. It's not recommended as these values represents 20% of the number of observations, but in this specific scenario we don't have much of a choice but to remove de NaN values."
   ]
  },
  {
   "cell_type": "code",
   "execution_count": 115,
   "id": "c5484a88",
   "metadata": {},
   "outputs": [
    {
     "data": {
      "text/plain": [
       "(714, 2)"
      ]
     },
     "execution_count": 115,
     "metadata": {},
     "output_type": "execute_result"
    }
   ],
   "source": [
    "train_age = train[['Age' , 'Survived']].dropna(how='any')\n",
    "train_age['Age'] = (np.floor(train_age['Age'])).astype(int)\n",
    "train_age.shape"
   ]
  },
  {
   "cell_type": "code",
   "execution_count": 118,
   "id": "ad5d31f7",
   "metadata": {},
   "outputs": [
    {
     "data": {
      "text/html": [
       "<div>\n",
       "<style scoped>\n",
       "    .dataframe tbody tr th:only-of-type {\n",
       "        vertical-align: middle;\n",
       "    }\n",
       "\n",
       "    .dataframe tbody tr th {\n",
       "        vertical-align: top;\n",
       "    }\n",
       "\n",
       "    .dataframe thead th {\n",
       "        text-align: right;\n",
       "    }\n",
       "</style>\n",
       "<table border=\"1\" class=\"dataframe\">\n",
       "  <thead>\n",
       "    <tr style=\"text-align: right;\">\n",
       "      <th></th>\n",
       "      <th>Age</th>\n",
       "      <th>Survived</th>\n",
       "    </tr>\n",
       "    <tr>\n",
       "      <th>PassengerId</th>\n",
       "      <th></th>\n",
       "      <th></th>\n",
       "    </tr>\n",
       "  </thead>\n",
       "  <tbody>\n",
       "    <tr>\n",
       "      <th>1</th>\n",
       "      <td>22</td>\n",
       "      <td>0</td>\n",
       "    </tr>\n",
       "    <tr>\n",
       "      <th>2</th>\n",
       "      <td>38</td>\n",
       "      <td>1</td>\n",
       "    </tr>\n",
       "    <tr>\n",
       "      <th>3</th>\n",
       "      <td>26</td>\n",
       "      <td>1</td>\n",
       "    </tr>\n",
       "    <tr>\n",
       "      <th>4</th>\n",
       "      <td>35</td>\n",
       "      <td>1</td>\n",
       "    </tr>\n",
       "    <tr>\n",
       "      <th>5</th>\n",
       "      <td>35</td>\n",
       "      <td>0</td>\n",
       "    </tr>\n",
       "  </tbody>\n",
       "</table>\n",
       "</div>"
      ],
      "text/plain": [
       "             Age  Survived\n",
       "PassengerId               \n",
       "1             22         0\n",
       "2             38         1\n",
       "3             26         1\n",
       "4             35         1\n",
       "5             35         0"
      ]
     },
     "execution_count": 118,
     "metadata": {},
     "output_type": "execute_result"
    }
   ],
   "source": [
    "train_age.head()"
   ]
  },
  {
   "cell_type": "markdown",
   "id": "fea87da5",
   "metadata": {},
   "source": [
    "After deleting the missing values, we resulted with a new dataframe train_age with 714 observations (rows)."
   ]
  },
  {
   "cell_type": "code",
   "execution_count": 121,
   "id": "acc9484c",
   "metadata": {},
   "outputs": [
    {
     "name": "stdout",
     "output_type": "stream",
     "text": [
      "Yougest passenger: 0 months old\n",
      "\n",
      "Oldest passenger: 80 years old\n"
     ]
    }
   ],
   "source": [
    "print('Yougest passenger: ' + str(train_age['Age'].min() * 12) + ' months old')\n",
    "print('\\nOldest passenger: ' + str(train_age['Age'].max()) + ' years old')"
   ]
  },
  {
   "cell_type": "markdown",
   "id": "c99efbcf",
   "metadata": {},
   "source": [
    "To perform the analysis we can round the ages up so the yougest passenger was a few months old, as the oldest was 80 years old.\n",
    "\n",
    "We can create a new dataframe called train_ages_survival indexing Age to return the following:\n",
    "- No of passengers of the indexed age who survided\n",
    "- No of passengers of the indexed age who died\n",
    "- Total No of passenger of the indexed age\n",
    "- Percentage of survivors of the indexed age"
   ]
  },
  {
   "cell_type": "code",
   "execution_count": 122,
   "id": "0f7c4862",
   "metadata": {},
   "outputs": [
    {
     "data": {
      "text/plain": [
       "array([ 0,  1,  2,  3,  4,  5,  6,  7,  8,  9, 10, 11, 12, 13, 14, 15, 16,\n",
       "       17, 18, 19, 20, 21, 22, 23, 24, 25, 26, 27, 28, 29, 30, 31, 32, 33,\n",
       "       34, 35, 36, 37, 38, 39, 40, 41, 42, 43, 44, 45, 46, 47, 48, 49, 50,\n",
       "       51, 52, 53, 54, 55, 56, 57, 58, 59, 60, 61, 62, 63, 64, 65, 66, 70,\n",
       "       71, 74, 80])"
      ]
     },
     "execution_count": 122,
     "metadata": {},
     "output_type": "execute_result"
    }
   ],
   "source": [
    "ages_list = train_age['Age'].unique()\n",
    "ages_list.sort()\n",
    "ages_list"
   ]
  },
  {
   "cell_type": "code",
   "execution_count": 123,
   "id": "4ed072c9",
   "metadata": {},
   "outputs": [
    {
     "data": {
      "text/html": [
       "<div>\n",
       "<style scoped>\n",
       "    .dataframe tbody tr th:only-of-type {\n",
       "        vertical-align: middle;\n",
       "    }\n",
       "\n",
       "    .dataframe tbody tr th {\n",
       "        vertical-align: top;\n",
       "    }\n",
       "\n",
       "    .dataframe thead th {\n",
       "        text-align: right;\n",
       "    }\n",
       "</style>\n",
       "<table border=\"1\" class=\"dataframe\">\n",
       "  <thead>\n",
       "    <tr style=\"text-align: right;\">\n",
       "      <th></th>\n",
       "      <th>Survived</th>\n",
       "      <th>Deaths</th>\n",
       "      <th>Total</th>\n",
       "      <th>Percentage</th>\n",
       "    </tr>\n",
       "  </thead>\n",
       "  <tbody>\n",
       "    <tr>\n",
       "      <th>0</th>\n",
       "      <td>7</td>\n",
       "      <td>0</td>\n",
       "      <td>7</td>\n",
       "      <td>100.00</td>\n",
       "    </tr>\n",
       "    <tr>\n",
       "      <th>1</th>\n",
       "      <td>5</td>\n",
       "      <td>2</td>\n",
       "      <td>7</td>\n",
       "      <td>71.43</td>\n",
       "    </tr>\n",
       "    <tr>\n",
       "      <th>2</th>\n",
       "      <td>3</td>\n",
       "      <td>7</td>\n",
       "      <td>10</td>\n",
       "      <td>30.00</td>\n",
       "    </tr>\n",
       "    <tr>\n",
       "      <th>3</th>\n",
       "      <td>5</td>\n",
       "      <td>1</td>\n",
       "      <td>6</td>\n",
       "      <td>83.33</td>\n",
       "    </tr>\n",
       "    <tr>\n",
       "      <th>4</th>\n",
       "      <td>7</td>\n",
       "      <td>3</td>\n",
       "      <td>10</td>\n",
       "      <td>70.00</td>\n",
       "    </tr>\n",
       "  </tbody>\n",
       "</table>\n",
       "</div>"
      ],
      "text/plain": [
       "   Survived  Deaths  Total  Percentage\n",
       "0         7       0      7      100.00\n",
       "1         5       2      7       71.43\n",
       "2         3       7     10       30.00\n",
       "3         5       1      6       83.33\n",
       "4         7       3     10       70.00"
      ]
     },
     "execution_count": 123,
     "metadata": {},
     "output_type": "execute_result"
    }
   ],
   "source": [
    "train_ages_survival = pd.DataFrame(index=ages_list, columns=['Survived', 'Deaths', 'Total', 'Percentage'])\n",
    "\n",
    "train_ages_survival['Survived'] = train_age.groupby('Age')['Survived'].sum()\n",
    "train_ages_survival['Total'] = train_age.groupby('Age').count()\n",
    "train_ages_survival['Deaths'] = train_ages_survival['Total'] - train_ages_survival['Survived']\n",
    "train_ages_survival['Percentage'] = round(train_age.groupby('Age')['Survived'].mean() * 100, 2)\n",
    "\n",
    "# for age in ages_list:\n",
    "#     train_ages_survival.loc[age]['Survived'] = (train_age['Age'] == age).where(train_age['Survived'] == 1).sum()\n",
    "#     train_ages_survival.loc[age]['Total'] = (train_age['Age'] == age).sum()\n",
    "#     train_ages_survival.loc[age]['Deaths'] = train_ages_survival.loc[age]['Total'] - train_ages_survival.loc[age]['Survived']\n",
    "#     train_ages_survival.loc[age]['Percentage'] = (train_ages_survival.loc[age]['Survived'] / train_ages_survival.loc[age]['Total']) * 100\n",
    "#     \n",
    "# train_ages_survival.head()\n",
    "\n",
    "train_ages_survival.head()"
   ]
  },
  {
   "cell_type": "markdown",
   "id": "26ac0924",
   "metadata": {},
   "source": [
    "We can use a Scatter Plot to visualize the data and check for outliers."
   ]
  },
  {
   "cell_type": "code",
   "execution_count": 125,
   "id": "86f91ed6",
   "metadata": {},
   "outputs": [
    {
     "data": {
      "image/png": "[encoded data removed]",
      "text/plain": [
       "<Figure size 432x288 with 1 Axes>"
      ]
     },
     "metadata": {
      "needs_background": "light"
     },
     "output_type": "display_data"
    }
   ],
   "source": [
    "x = train_ages_survival['Percentage'].index\n",
    "y = train_ages_survival['Percentage']\n",
    "plt.scatter(x, y)\n",
    "m, b = np.polyfit(x, y, 1)\n",
    "plt.plot(x, y, '.')\n",
    "plt.title('Survival rates by Age')\n",
    "plt.xlabel('Age in Years')\n",
    "plt.ylabel('Percentage of Survivors')\n",
    "plt.show()"
   ]
  },
  {
   "cell_type": "markdown",
   "id": "6aca40f8",
   "metadata": {},
   "source": [
    "By interpreting the Scatter plot we can verify that lower values of x return high values of y, and high values of x return lower values of y. Therefore, the younger a passenger were, higher the chances to have survived.\n",
    "\n",
    "Also, we can verify high values of y in ages greater than 50, which suggest these values to be outliers and do not represent the general tendency of the data. We can remove the outliers from the dataframe and replot the graphic with a regression line."
   ]
  },
  {
   "cell_type": "code",
   "execution_count": 127,
   "id": "caae0cac",
   "metadata": {},
   "outputs": [
    {
     "data": {
      "image/png": "[encoded data removed]",
      "text/plain": [
       "<Figure size 432x288 with 1 Axes>"
      ]
     },
     "metadata": {
      "needs_background": "light"
     },
     "output_type": "display_data"
    }
   ],
   "source": [
    "train_ages_survival = train_ages_survival.drop(train_ages_survival[(train_ages_survival['Percentage'] == 100) & (train_ages_survival.index > 50)].index)\n",
    "x = train_ages_survival['Percentage'].index\n",
    "y = train_ages_survival['Percentage']\n",
    "plt.scatter(x, y)\n",
    "m, b = np.polyfit(x, y, 1)\n",
    "plt.plot(x, y, '.')\n",
    "plt.plot(x, m*x + b, '-')\n",
    "plt.title('Survival Rates by Age')\n",
    "plt.xlabel('Age in Years')\n",
    "plt.ylabel('Percentage of Survivors')\n",
    "plt.show()"
   ]
  },
  {
   "cell_type": "markdown",
   "id": "aacbf979",
   "metadata": {},
   "source": [
    "The regression line shows that the younger you were, the higher your chances to survive. We can specify more information about the regression line:\n",
    "\n"
   ]
  },
  {
   "cell_type": "code",
   "execution_count": 128,
   "id": "87f56527",
   "metadata": {},
   "outputs": [
    {
     "name": "stdout",
     "output_type": "stream",
     "text": [
      "Slope:  -0.6731448575214684\n",
      "Intercept:  61.93830324815576\n",
      "r_value:  -0.5279643944469165\n",
      "r_squared:  0.2787464018036992\n",
      "p_value:  3.7119198819980894e-06\n",
      "std_error:  0.13328335798924695\n"
     ]
    }
   ],
   "source": [
    "slope, intercept, r_value, p_value, std_err = stats.linregress(x, y)\n",
    "\n",
    "print('Slope: ', slope)\n",
    "print('Intercept: ', intercept)\n",
    "print('r_value: ', r_value)\n",
    "print('r_squared: ', r_value ** 2)\n",
    "print('p_value: ', p_value)\n",
    "print('std_error: ', std_err)"
   ]
  },
  {
   "cell_type": "markdown",
   "id": "015ef293",
   "metadata": {},
   "source": [
    "To strength our analysis we can use a bar chart to analyze ages 4 and 17.\n",
    "\n",
    "First, we can define a new function  to count number of passengers for a specific age and return the survival count and death count."
   ]
  },
  {
   "cell_type": "code",
   "execution_count": 142,
   "id": "b5aa81e0",
   "metadata": {},
   "outputs": [],
   "source": [
    "def age_counts(age):\n",
    "    '''\n",
    "    age - the age limit on which to apply the analysis\n",
    "    This function returns the survival count for people under or equal to the age specified and people older than the age specified,\n",
    "    and the death count people under or equal to the age specified and people older than the age specified.\n",
    "    '''\n",
    "    younger_target = train['Age'].where(train['Age'] <= age)\n",
    "    older_target = train['Age'].where(train['Age'] > age)\n",
    "    younger_survival_count = younger_target.where(train['Survived'] == 1).count()\n",
    "    older_survival_count = older_target.where(train['Survived'] == 1).count()\n",
    "    younger_death_count = younger_target.where(train['Survived'] == 0).count()\n",
    "    older_death_count = older_target.where(train['Survived'] == 0).count()\n",
    "    return younger_survival_count, older_survival_count, younger_death_count, older_death_count"
   ]
  },
  {
   "cell_type": "code",
   "execution_count": 143,
   "id": "c5d03aa1",
   "metadata": {},
   "outputs": [
    {
     "name": "stdout",
     "output_type": "stream",
     "text": [
      "Age Limit = 4\n",
      "Survival count for children up to 4:  27\n",
      "Survival count for people over 4:  263\n",
      "Death count for children up to 4:  13\n",
      "Death count for people over 4:  411\n",
      "\n",
      "Age Limite = 17\n",
      "Survival count for children up to 17:  61\n",
      "Survival count for people over 17:  229\n",
      "Death count for children up to 17:  52\n",
      "Death count for people over 17:  372\n"
     ]
    }
   ],
   "source": [
    "up_to_4_survival_count, over_4_survival_count, up_to_4_death_count, over_4_death_count = age_counts(4)\n",
    "up_to_17_survival_count, over_17_survival_count, up_to_17_death_count, over_17_death_count = age_counts(17)\n",
    "\n",
    "print('Age Limit = 4')\n",
    "print('Survival count for children up to 4: ', up_to_4_survival_count)\n",
    "print('Survival count for people over 4: ', over_4_survival_count)\n",
    "print('Death count for children up to 4: ', up_to_4_death_count)\n",
    "print('Death count for people over 4: ', over_4_death_count)\n",
    "\n",
    "print('\\nAge Limite = 17')\n",
    "print('Survival count for children up to 17: ', up_to_17_survival_count)\n",
    "print('Survival count for people over 17: ', over_17_survival_count)\n",
    "print('Death count for children up to 17: ', up_to_17_death_count)\n",
    "print('Death count for people over 17: ', over_17_death_count)"
   ]
  },
  {
   "cell_type": "markdown",
   "id": "89de4394",
   "metadata": {},
   "source": [
    "We can plot the bar Charts to verify counts and percentages for each specific Age Limit."
   ]
  },
  {
   "cell_type": "code",
   "execution_count": 145,
   "id": "d7d193f4",
   "metadata": {},
   "outputs": [
    {
     "data": {
      "image/png": "[encoded data removed]",
      "text/plain": [
       "<Figure size 720x360 with 2 Axes>"
      ]
     },
     "metadata": {
      "needs_background": "light"
     },
     "output_type": "display_data"
    }
   ],
   "source": [
    "# Plotting for age 4\n",
    "bar_plot([up_to_4_survival_count, over_4_survival_count],\n",
    "         [up_to_4_death_count, over_4_death_count],\n",
    "         '- 4 years old',\n",
    "         ['Up to 4', 'Over 4'])"
   ]
  },
  {
   "cell_type": "code",
   "execution_count": 146,
   "id": "f016340b",
   "metadata": {},
   "outputs": [
    {
     "data": {
      "image/png": "[encoded data removed]",
      "text/plain": [
       "<Figure size 720x360 with 2 Axes>"
      ]
     },
     "metadata": {
      "needs_background": "light"
     },
     "output_type": "display_data"
    }
   ],
   "source": [
    "# Plotting for age 17\n",
    "bar_plot([up_to_17_survival_count, over_17_survival_count],\n",
    "         [up_to_17_death_count, over_17_death_count],\n",
    "         '- 17 years old',\n",
    "         ['Up to 17', 'Over 17'])"
   ]
  },
  {
   "cell_type": "markdown",
   "id": "0ff582e7",
   "metadata": {},
   "source": [
    "We can infer that children up to 4 years old had a higher chance of survival than people over 4 years old.\n",
    "\n",
    "Children of 17 years old had a higher chance of survival than people over 17 years old, but lower than children up to 4 years old. The interpretation of the Bar Plots confirms our inference of the hypothesis, as the younger the passenger were, the higher the chances of survival."
   ]
  },
  {
   "cell_type": "markdown",
   "id": "4f809857",
   "metadata": {},
   "source": [
    "### Conclusion"
   ]
  },
  {
   "cell_type": "markdown",
   "id": "e6bc2c78",
   "metadata": {},
   "source": [
    "From this analysis, we can conclude that passengers had higher chances of survival if:\n",
    "\n",
    "- they had a high class ticket\n",
    "- they were women\n",
    "- they were young\n",
    "\n",
    "On the contrary, being a third class old man lowered the chances of survival."
   ]
  }
 ],
 "metadata": {
  "kernelspec": {
   "display_name": "Python 3",
   "language": "python",
   "name": "python3"
  },
  "language_info": {
   "codemirror_mode": {
    "name": "ipython",
    "version": 3
   },
   "file_extension": ".py",
   "mimetype": "text/x-python",
   "name": "python",
   "nbconvert_exporter": "python",
   "pygments_lexer": "ipython3",
   "version": "3.8.8"
  }
 },
 "nbformat": 4,
 "nbformat_minor": 5
}
